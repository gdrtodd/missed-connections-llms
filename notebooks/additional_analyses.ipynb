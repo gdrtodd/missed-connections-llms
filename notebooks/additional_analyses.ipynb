{
 "cells": [
  {
   "cell_type": "code",
   "execution_count": 25,
   "metadata": {},
   "outputs": [],
   "source": [
    "from collections import Counter, namedtuple\n",
    "from dataclasses import dataclass\n",
    "import csv\n",
    "import json\n",
    "\n",
    "import numpy as np, scipy.stats as st\n",
    "import matplotlib.pyplot as plt\n",
    "import pandas as pd"
   ]
  },
  {
   "cell_type": "markdown",
   "metadata": {},
   "source": [
    "## Fine-Grained Error Analysis on Purple Categories"
   ]
  },
  {
   "cell_type": "code",
   "execution_count": 24,
   "metadata": {},
   "outputs": [],
   "source": [
    "raw_data = json.load(open(\"../data/puzzle_data.json\", \"r\"))\n",
    "\n",
    "@dataclass\n",
    "class Color():\n",
    "    YELLOW = '#fbd400'\n",
    "    GREEN = '#69e352'\n",
    "    BLUE = '#5492ff'\n",
    "    PURPLE = '#df7bea'\n",
    "    OVERALL = '#A9A9A9'"
   ]
  },
  {
   "cell_type": "code",
   "execution_count": 16,
   "metadata": {},
   "outputs": [],
   "source": [
    "# Save the unlabelled categories\n",
    "purple_categories = []\n",
    "for game in raw_data:\n",
    "    final_category = [category for category in game['answers'] if category['color'] == Color.PURPLE][0]\n",
    "    purple_categories.append([final_category['description'], final_category['words']])\n",
    "\n",
    "with open('../data/purple_categories.csv', 'w', newline='') as file:\n",
    "    writer = csv.writer(file)\n",
    "    writer.writerow(['Category', 'Words'])\n",
    "    for category in purple_categories:\n",
    "        writer.writerow(category)"
   ]
  },
  {
   "cell_type": "code",
   "execution_count": 17,
   "metadata": {},
   "outputs": [],
   "source": [
    "# Load the labelled categories\n",
    "category_labels = []\n",
    "with open('../data/purple_categories_labelled.csv', 'r') as file:\n",
    "    reader = csv.reader(file)\n",
    "    next(reader)\n",
    "    for row in reader:\n",
    "        category_labels.append(row[2])"
   ]
  },
  {
   "cell_type": "code",
   "execution_count": 18,
   "metadata": {},
   "outputs": [
    {
     "name": "stdout",
     "output_type": "stream",
     "text": [
      "===== Category Label Breakdown =====\n",
      "Phrasal: 52 (34.90%)\n",
      "Abstract: 33 (22.15%)\n",
      "Cultural: 30 (20.13%)\n",
      "Morphological: 15 (10.07%)\n",
      "Semantic: 14 (9.40%)\n",
      "Miscellaneous: 5 (3.36%)\n"
     ]
    }
   ],
   "source": [
    "print(\"===== Category Label Breakdown =====\")\n",
    "counts = Counter(category_labels)\n",
    "for label, count in sorted(counts.items(), key=lambda x: x[1], reverse=True):\n",
    "    print(f\"{label}: {count} ({count/len(category_labels)*100:.2f}%)\")"
   ]
  },
  {
   "cell_type": "code",
   "execution_count": 19,
   "metadata": {},
   "outputs": [],
   "source": [
    "model_types = [\n",
    "    \"gpt-3.5-turbo_cot-False\",\n",
    "    \"gpt-4-1106-preview_cot-False\",\n",
    "    \"gpt-4-1106-preview_cot-True\",\n",
    "]\n",
    "\n",
    "success_rate_results = {}\n",
    "num_failures_results = {}\n",
    "\n",
    "for model in model_types:\n",
    "    filename = f\"../results/IterativeGPTSolver_{model}_results.json\"\n",
    "    df = pd.read_json(filename)\n",
    "    \n",
    "    \n",
    "    results_by_category_label = {}\n",
    "    num_failures_by_category_label = {}\n",
    "\n",
    "    for label, (id, group) in zip(category_labels, df.groupby(\"puzzle_id\")):\n",
    "        if label not in results_by_category_label:\n",
    "            results_by_category_label[label] = []\n",
    "            num_failures_by_category_label[label] = 0\n",
    "\n",
    "        results_by_category_label[label] += group[\"solved_purple\"].tolist()\n",
    "\n",
    "        num_failures = group[\"solved_purple\"].tolist().count(False)\n",
    "        num_failures_by_category_label[label] += num_failures\n",
    "        \n",
    "        # is_failure = group[\"solved_purple\"].tolist().count(True) == 0\n",
    "        # if is_failure:\n",
    "        #     num_failures_by_category_label[label] += 1\n",
    "\n",
    "\n",
    "    success_rate_results[model] = results_by_category_label\n",
    "    num_failures_results[model] = num_failures_by_category_label"
   ]
  },
  {
   "cell_type": "code",
   "execution_count": 20,
   "metadata": {},
   "outputs": [
    {
     "name": "stdout",
     "output_type": "stream",
     "text": [
      "\n",
      "==================== gpt-3.5-turbo_cot-False Results ====================\n",
      "Phrasal: 138 (34.41%)\n",
      "Abstract: 92 (22.94%)\n",
      "Cultural: 77 (19.20%)\n",
      "Morphological: 40 (9.98%)\n",
      "Semantic: 40 (9.98%)\n",
      "Miscellaneous: 14 (3.49%)\n",
      "\n",
      "==================== gpt-4-1106-preview_cot-False Results ====================\n",
      "Phrasal: 107 (38.08%)\n",
      "Abstract: 61 (21.71%)\n",
      "Cultural: 56 (19.93%)\n",
      "Morphological: 26 (9.25%)\n",
      "Semantic: 20 (7.12%)\n",
      "Miscellaneous: 11 (3.91%)\n",
      "\n",
      "==================== gpt-4-1106-preview_cot-True Results ====================\n",
      "Phrasal: 85 (37.28%)\n",
      "Abstract: 51 (22.37%)\n",
      "Cultural: 42 (18.42%)\n",
      "Morphological: 24 (10.53%)\n",
      "Semantic: 15 (6.58%)\n",
      "Miscellaneous: 11 (4.82%)\n"
     ]
    }
   ],
   "source": [
    "for model_type, num_failures_by_category_label in num_failures_results.items():\n",
    "    print(f\"\\n==================== {model_type} Results ====================\")\n",
    "    total_failures = sum(list(num_failures_by_category_label.values()))\n",
    "    for label, failures in sorted(num_failures_by_category_label.items(), key=lambda x: x[1], reverse=True):\n",
    "        print(f\"{label}: {failures} ({failures/total_failures*100:.2f}%)\")"
   ]
  },
  {
   "cell_type": "code",
   "execution_count": 21,
   "metadata": {},
   "outputs": [
    {
     "name": "stdout",
     "output_type": "stream",
     "text": [
      "\n",
      "==================== gpt-3.5-turbo_cot-False Results ====================\n",
      "Cultural: \t\t14.44%   \t\t(30 puzzles)\n",
      "Phrasal: \t\t11.54%   \t\t(52 puzzles)\n",
      "Morphological: \t\t11.11%   \t\t(15 puzzles)\n",
      "Abstract: \t\t7.07%   \t\t(33 puzzles)\n",
      "Miscellaneous: \t\t6.67%   \t\t(5 puzzles)\n",
      "Semantic: \t\t4.76%   \t\t(14 puzzles)\n",
      "\n",
      "==================== gpt-4-1106-preview_cot-False Results ====================\n",
      "Semantic: \t\t52.38%   \t\t(14 puzzles)\n",
      "Morphological: \t\t42.22%   \t\t(15 puzzles)\n",
      "Abstract: \t\t38.38%   \t\t(33 puzzles)\n",
      "Cultural: \t\t37.78%   \t\t(30 puzzles)\n",
      "Phrasal: \t\t31.41%   \t\t(52 puzzles)\n",
      "Miscellaneous: \t\t26.67%   \t\t(5 puzzles)\n",
      "\n",
      "==================== gpt-4-1106-preview_cot-True Results ====================\n",
      "Semantic: \t\t64.29%   \t\t(14 puzzles)\n",
      "Cultural: \t\t53.33%   \t\t(30 puzzles)\n",
      "Abstract: \t\t48.48%   \t\t(33 puzzles)\n",
      "Morphological: \t\t46.67%   \t\t(15 puzzles)\n",
      "Phrasal: \t\t45.51%   \t\t(52 puzzles)\n",
      "Miscellaneous: \t\t26.67%   \t\t(5 puzzles)\n"
     ]
    }
   ],
   "source": [
    "confidence = 0.95\n",
    "for model_type, results_by_category_label in success_rate_results.items():\n",
    "    print(f\"\\n==================== {model_type} Results ====================\")\n",
    "    for label, solves in sorted(results_by_category_label.items(), key=lambda x: np.mean(x[1]), reverse=True):\n",
    "        prop = np.mean(solves)\n",
    "        interval = st.t.interval(confidence, len(solves)-1, loc=np.mean(solves), scale=st.sem(solves))\n",
    "        interval_plus_minus = (interval[1] - interval[0]) / 2\n",
    "\n",
    "        # print(f\"{label}: \\t\\t{prop*100:.2f}% ± {interval_plus_minus*100:.2f}%   \\t\\t({confidence*100}% confidence, {len(solves) // 3} puzzles)\")\n",
    "        print(f\"{label}: \\t\\t{prop*100:.2f}%   \\t\\t({len(solves) // 3} puzzles)\")"
   ]
  },
  {
   "cell_type": "markdown",
   "metadata": {},
   "source": [
    "## Analysis with Fewer Mistakes Allowed"
   ]
  },
  {
   "cell_type": "code",
   "execution_count": 22,
   "metadata": {},
   "outputs": [
    {
     "name": "stdout",
     "output_type": "stream",
     "text": [
      "\n",
      "==================== gpt-4-1106-preview_cot-True Results ====================\n",
      "Solved with 0 or fewer mistakes: \t\t2.67%   \t\t(4 puzzles)\n",
      "Solved with 1 or fewer mistakes: \t\t4.22%   \t\t(6 puzzles)\n",
      "Solved with 2 or fewer mistakes: \t\t4.67%   \t\t(7 puzzles)\n",
      "Solved with 3 or fewer mistakes: \t\t5.56%   \t\t(8 puzzles)\n",
      "Solved with 4 or fewer mistakes: \t\t6.89%   \t\t(10 puzzles)\n",
      "\n",
      "==================== gpt-4-1106-preview_cot-True Results ====================\n",
      "Solved with 0 or fewer mistakes: \t\t19.11%   \t\t(28 puzzles)\n",
      "Solved with 1 or fewer mistakes: \t\t25.33%   \t\t(38 puzzles)\n",
      "Solved with 2 or fewer mistakes: \t\t29.78%   \t\t(44 puzzles)\n",
      "Solved with 3 or fewer mistakes: \t\t32.67%   \t\t(49 puzzles)\n",
      "Solved with 4 or fewer mistakes: \t\t35.11%   \t\t(52 puzzles)\n",
      "\n",
      "==================== gpt-4-1106-preview_cot-True Results ====================\n",
      "Solved with 0 or fewer mistakes: \t\t19.11%   \t\t(28 puzzles)\n",
      "Solved with 1 or fewer mistakes: \t\t30.89%   \t\t(46 puzzles)\n",
      "Solved with 2 or fewer mistakes: \t\t35.78%   \t\t(53 puzzles)\n",
      "Solved with 3 or fewer mistakes: \t\t42.67%   \t\t(64 puzzles)\n",
      "Solved with 4 or fewer mistakes: \t\t46.00%   \t\t(69 puzzles)\n"
     ]
    }
   ],
   "source": [
    "model_types = [\n",
    "    \"gpt-3.5-turbo_cot-False\",\n",
    "    \"gpt-4-1106-preview_cot-False\",\n",
    "    \"gpt-4-1106-preview_cot-True\",\n",
    "]\n",
    "\n",
    "for model in model_types:\n",
    "    filename = f\"../results/IterativeGPTSolver_{model}_results.json\"\n",
    "    df = pd.read_json(filename)\n",
    "\n",
    "    solved = df[df[\"solved_overall\"] == True].copy()\n",
    "    solved[\"mistakes\"] = (solved[\"num_steps\"] - solved[\"num_invalid\"]) - 3 # 3 is the number of successes required since the last action is automatic\n",
    "\n",
    "    print(f\"\\n==================== {model_type} Results ====================\")\n",
    "    for n in range(5):\n",
    "        solved_witin_n_mistakes = len(solved[solved[\"mistakes\"] <= n])\n",
    "        prop = solved_witin_n_mistakes / 450\n",
    "\n",
    "        print(f\"Solved with {n} or fewer mistakes: \\t\\t{prop*100:.2f}%   \\t\\t({solved_witin_n_mistakes // 3} puzzles)\")\n"
   ]
  },
  {
   "cell_type": "markdown",
   "metadata": {},
   "source": [
    "## Analysis when Invalid Guesses are Counted as Mistakes"
   ]
  },
  {
   "cell_type": "code",
   "execution_count": 23,
   "metadata": {},
   "outputs": [
    {
     "name": "stdout",
     "output_type": "stream",
     "text": [
      "gpt-3.5-turbo_cot-False: \t\t6.67%   \t\t(10 puzzles)\n",
      "gpt-4-1106-preview_cot-False: \t\t35.11%   \t\t(52 puzzles)\n",
      "gpt-4-1106-preview_cot-True: \t\t45.33%   \t\t(68 puzzles)\n"
     ]
    }
   ],
   "source": [
    "model_types = [\n",
    "    \"gpt-3.5-turbo_cot-False\",\n",
    "    \"gpt-4-1106-preview_cot-False\",\n",
    "    \"gpt-4-1106-preview_cot-True\",\n",
    "]\n",
    "\n",
    "for model in model_types:\n",
    "    filename = f\"../results/IterativeGPTSolver_{model}_results.json\"\n",
    "    df = pd.read_json(filename)\n",
    "\n",
    "    solved = df[df[\"solved_overall\"] == True].copy()\n",
    "    solved[\"mistakes\"] = solved[\"num_steps\"] - 3 # 3 is the number of successes required since the last action is automatic\n",
    "\n",
    "    solved_witin_5_mistakes = len(solved[solved[\"mistakes\"] <= 4])\n",
    "    prop = solved_witin_5_mistakes / 450\n",
    "\n",
    "    print(f\"{model}: \\t\\t{prop*100:.2f}%   \\t\\t({solved_witin_5_mistakes // 3} puzzles)\")"
   ]
  },
  {
   "cell_type": "markdown",
   "metadata": {},
   "source": [
    "## Analyses of Difficulty"
   ]
  },
  {
   "cell_type": "code",
   "execution_count": 26,
   "metadata": {},
   "outputs": [],
   "source": [
    "difficulties = [game['difficulty'] for game in raw_data if game['difficulty'] is not None]"
   ]
  },
  {
   "cell_type": "code",
   "execution_count": 32,
   "metadata": {},
   "outputs": [
    {
     "data": {
      "text/plain": [
       "(array([ 2.,  3., 13., 20., 30., 18., 18., 13.,  4.,  3.]),\n",
       " array([1.3 , 1.65, 2.  , 2.35, 2.7 , 3.05, 3.4 , 3.75, 4.1 , 4.45, 4.8 ]),\n",
       " <BarContainer object of 10 artists>)"
      ]
     },
     "execution_count": 32,
     "metadata": {},
     "output_type": "execute_result"
    },
    {
     "data": {
      "image/png": "[encoded data removed]",
      "text/plain": [
       "<Figure size 640x480 with 1 Axes>"
      ]
     },
     "metadata": {},
     "output_type": "display_data"
    }
   ],
   "source": [
    "plt.hist(difficulties, bins=10)"
   ]
  }
 ],
 "metadata": {
  "kernelspec": {
   "display_name": "game-gen",
   "language": "python",
   "name": "python3"
  },
  "language_info": {
   "codemirror_mode": {
    "name": "ipython",
    "version": 3
   },
   "file_extension": ".py",
   "mimetype": "text/x-python",
   "name": "python",
   "nbconvert_exporter": "python",
   "pygments_lexer": "ipython3",
   "version": "3.10.6"
  }
 },
 "nbformat": 4,
 "nbformat_minor": 2
}
