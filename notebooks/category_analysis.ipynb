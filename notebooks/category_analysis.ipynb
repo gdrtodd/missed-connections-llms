{
 "cells": [
  {
   "cell_type": "code",
   "execution_count": 4,
   "metadata": {},
   "outputs": [],
   "source": [
    "from collections import defaultdict\n",
    "import csv\n",
    "import json\n",
    "import matplotlib.pyplot as plt"
   ]
  },
  {
   "cell_type": "code",
   "execution_count": 3,
   "metadata": {},
   "outputs": [],
   "source": [
    "cleaned_data = json.load(open('../results/gpt_4_1106_preview_category_analysis_cleaned.json', \"r\"))"
   ]
  },
  {
   "cell_type": "code",
   "execution_count": 12,
   "metadata": {},
   "outputs": [],
   "source": [
    "results_by_color = defaultdict(list)\n",
    "\n",
    "for entry in cleaned_data:\n",
    "    results_by_color[entry['difficulty']].append(entry['correct'])\n",
    "    results_by_color['overall'].append(entry['correct'])"
   ]
  },
  {
   "cell_type": "code",
   "execution_count": 13,
   "metadata": {},
   "outputs": [
    {
     "name": "stdout",
     "output_type": "stream",
     "text": [
      "Succes rate for yellow: 0.86 (215 / 250)\n",
      "Succes rate for overall: 0.702 (702 / 1000)\n",
      "Succes rate for green: 0.856 (214 / 250)\n",
      "Succes rate for blue: 0.728 (182 / 250)\n",
      "Succes rate for purple: 0.364 (91 / 250)\n"
     ]
    }
   ],
   "source": [
    "for color, results in results_by_color.items():\n",
    "    print(f\"Succes rate for {color}: {sum(results) / len(results)} ({sum(results)} / {len(results)})\")"
   ]
  }
 ],
 "metadata": {
  "kernelspec": {
   "display_name": "game-gen",
   "language": "python",
   "name": "python3"
  },
  "language_info": {
   "codemirror_mode": {
    "name": "ipython",
    "version": 3
   },
   "file_extension": ".py",
   "mimetype": "text/x-python",
   "name": "python",
   "nbconvert_exporter": "python",
   "pygments_lexer": "ipython3",
   "version": "3.11.0"
  }
 },
 "nbformat": 4,
 "nbformat_minor": 2
}
